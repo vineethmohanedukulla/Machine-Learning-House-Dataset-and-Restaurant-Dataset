{
  "nbformat": 4,
  "nbformat_minor": 0,
  "metadata": {
    "colab": {
      "name": "Lesson_6_Clustring.ipynb",
      "provenance": []
    },
    "kernelspec": {
      "name": "python3",
      "display_name": "Python 3"
    },
    "language_info": {
      "name": "python"
    }
  },
  "cells": [
    {
      "cell_type": "code",
      "metadata": {
        "id": "E-jfL_gEu_zZ"
      },
      "source": [
        "from sklearn.cluster import KMeans\n",
        "import pandas as pd\n",
        "import matplotlib.pyplot as plt\n",
        "\n",
        "import seaborn as sns\n",
        "sns.set(style=\"white\", color_codes=True)\n",
        "import warnings\n",
        "warnings.filterwarnings(\"ignore\")"
      ],
      "execution_count": null,
      "outputs": []
    },
    {
      "cell_type": "code",
      "metadata": {
        "id": "jpyT3JhtvKlQ"
      },
      "source": [
        "dataset = pd.read_csv('Iris.csv')\n",
        "x = dataset.iloc[:,[1,2,3,4]]\n",
        "y = dataset.iloc[:,-1]"
      ],
      "execution_count": null,
      "outputs": []
    },
    {
      "cell_type": "code",
      "metadata": {
        "colab": {
          "base_uri": "https://localhost:8080/"
        },
        "id": "Rc1PYjKuvPP7",
        "outputId": "000ff42f-fb24-4c8b-aeef-0da8d832116e"
      },
      "source": [
        "##building the model\n",
        "from sklearn.cluster import KMeans\n",
        "nclusters = 3 # this is the k in kmeans\n",
        "km = KMeans(n_clusters=nclusters)\n",
        "km.fit(x)"
      ],
      "execution_count": null,
      "outputs": [
        {
          "output_type": "execute_result",
          "data": {
            "text/plain": [
              "KMeans(algorithm='auto', copy_x=True, init='k-means++', max_iter=300,\n",
              "       n_clusters=3, n_init=10, n_jobs=None, precompute_distances='auto',\n",
              "       random_state=None, tol=0.0001, verbose=0)"
            ]
          },
          "metadata": {
            "tags": []
          },
          "execution_count": 3
        }
      ]
    },
    {
      "cell_type": "code",
      "metadata": {
        "colab": {
          "base_uri": "https://localhost:8080/"
        },
        "id": "5ryJiNHlvQa6",
        "outputId": "594ced6a-f99e-4157-fcd2-d16d1b1c0628"
      },
      "source": [
        "# predict the cluster for each data point\n",
        "y_cluster_kmeans = km.predict(x)\n",
        "from sklearn import metrics\n",
        "score = metrics.silhouette_score(x, y_cluster_kmeans)\n",
        "print(score)"
      ],
      "execution_count": null,
      "outputs": [
        {
          "output_type": "stream",
          "text": [
            "0.5525919445499757\n"
          ],
          "name": "stdout"
        }
      ]
    }
  ]
}