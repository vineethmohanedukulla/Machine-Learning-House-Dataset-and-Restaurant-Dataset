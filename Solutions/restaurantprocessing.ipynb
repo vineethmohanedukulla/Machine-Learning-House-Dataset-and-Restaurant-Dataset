{
 "cells": [
  {
   "cell_type": "code",
   "execution_count": 29,
   "id": "ca44bb00",
   "metadata": {},
   "outputs": [],
   "source": [
    "import pandas as pd\n",
    "import numpy as np\n",
    "import matplotlib.pyplot as plt\n",
    "from sklearn.cluster import KMeans\n",
    "from sklearn import metrics\n",
    "from scipy.spatial.distance import cdist\n",
    "\n"
   ]
  },
  {
   "cell_type": "code",
   "execution_count": 30,
   "id": "ad715eb9",
   "metadata": {},
   "outputs": [],
   "source": [
    "# read the data\n",
    "train = pd.read_csv('rest_data.csv')"
   ]
  },
  {
   "cell_type": "code",
   "execution_count": 31,
   "id": "748c0b8a",
   "metadata": {},
   "outputs": [
    {
     "name": "stdout",
     "output_type": "stream",
     "text": [
      "<class 'pandas.core.frame.DataFrame'>\n",
      "RangeIndex: 137 entries, 0 to 136\n",
      "Data columns (total 41 columns):\n",
      " #   Column      Non-Null Count  Dtype  \n",
      "---  ------      --------------  -----  \n",
      " 0   Id          137 non-null    int64  \n",
      " 1   City Group  137 non-null    object \n",
      " 2   Type        137 non-null    object \n",
      " 3   P1          137 non-null    int64  \n",
      " 4   P2          137 non-null    float64\n",
      " 5   P3          137 non-null    float64\n",
      " 6   P4          137 non-null    float64\n",
      " 7   P5          137 non-null    int64  \n",
      " 8   P6          137 non-null    int64  \n",
      " 9   P7          137 non-null    int64  \n",
      " 10  P8          137 non-null    int64  \n",
      " 11  P9          137 non-null    int64  \n",
      " 12  P10         137 non-null    int64  \n",
      " 13  P11         137 non-null    int64  \n",
      " 14  P12         137 non-null    int64  \n",
      " 15  P13         137 non-null    float64\n",
      " 16  P14         137 non-null    int64  \n",
      " 17  P15         137 non-null    int64  \n",
      " 18  P16         137 non-null    int64  \n",
      " 19  P17         137 non-null    int64  \n",
      " 20  P18         137 non-null    int64  \n",
      " 21  P19         137 non-null    int64  \n",
      " 22  P20         137 non-null    int64  \n",
      " 23  P21         137 non-null    int64  \n",
      " 24  P22         137 non-null    int64  \n",
      " 25  P23         137 non-null    int64  \n",
      " 26  P24         137 non-null    int64  \n",
      " 27  P25         137 non-null    int64  \n",
      " 28  P26         137 non-null    float64\n",
      " 29  P27         137 non-null    float64\n",
      " 30  P28         137 non-null    float64\n",
      " 31  P29         137 non-null    float64\n",
      " 32  P30         137 non-null    int64  \n",
      " 33  P31         137 non-null    int64  \n",
      " 34  P32         137 non-null    int64  \n",
      " 35  P33         137 non-null    int64  \n",
      " 36  P34         137 non-null    int64  \n",
      " 37  P35         137 non-null    int64  \n",
      " 38  P36         137 non-null    int64  \n",
      " 39  P37         137 non-null    int64  \n",
      " 40  revenue     137 non-null    int64  \n",
      "dtypes: float64(8), int64(31), object(2)\n",
      "memory usage: 44.0+ KB\n"
     ]
    }
   ],
   "source": [
    "train.info()"
   ]
  },
  {
   "cell_type": "code",
   "execution_count": 32,
   "id": "65d45519",
   "metadata": {},
   "outputs": [
    {
     "name": "stdout",
     "output_type": "stream",
     "text": [
      "Skew is: 2.793478695162504\n"
     ]
    },
    {
     "data": {
      "image/png": "[encoded data removed]",
      "text/plain": [
       "<Figure size 432x288 with 1 Axes>"
      ]
     },
     "metadata": {
      "needs_background": "light"
     },
     "output_type": "display_data"
    }
   ],
   "source": [
    "# the data is right skewed\n",
    "print (\"Skew is:\", train.revenue.skew())\n",
    "plt.hist(train[\"revenue\"])\n",
    "plt.show()"
   ]
  },
  {
   "cell_type": "code",
   "execution_count": 33,
   "id": "9ce93591",
   "metadata": {},
   "outputs": [
    {
     "name": "stdout",
     "output_type": "stream",
     "text": [
      "skew is 0.30740162838726504\n"
     ]
    },
    {
     "data": {
      "image/png": "[encoded data removed]",
      "text/plain": [
       "<Figure size 432x288 with 1 Axes>"
      ]
     },
     "metadata": {
      "needs_background": "light"
     },
     "output_type": "display_data"
    }
   ],
   "source": [
    "# applied the log transform to distrubute\n",
    "target = np.log(train.revenue)\n",
    "print('skew is', target.skew())\n",
    "plt.hist(target)\n",
    "plt.show()"
   ]
  },
  {
   "cell_type": "code",
   "execution_count": 34,
   "id": "b4dcc899",
   "metadata": {},
   "outputs": [
    {
     "name": "stdout",
     "output_type": "stream",
     "text": [
      "Positive Correlation:\n",
      "revenue    1.000000\n",
      "P2         0.191518\n",
      "P28        0.155534\n",
      "P6         0.139094\n",
      "P21        0.097411\n",
      "P11        0.084247\n",
      "P22        0.083562\n",
      "P1         0.070217\n",
      "P17        0.067137\n",
      "P7         0.051165\n",
      "P23        0.045507\n",
      "P25        0.036365\n",
      "P4         0.035685\n",
      "P19        0.027984\n",
      "P24        0.014222\n",
      "P20        0.014147\n",
      "P14        0.006441\n",
      "P15        0.000742\n",
      "Id        -0.006277\n",
      "P26       -0.007650\n",
      "P27       -0.013680\n",
      "P37       -0.019051\n",
      "P3        -0.024613\n",
      "P5        -0.028191\n",
      "P33       -0.032426\n",
      "P18       -0.034537\n",
      "P16       -0.037997\n",
      "P31       -0.040418\n",
      "P35       -0.050156\n",
      "P9        -0.050352\n",
      "P36       -0.050534\n",
      "P12       -0.062193\n",
      "P32       -0.065857\n",
      "P30       -0.066203\n",
      "P34       -0.072343\n",
      "P10       -0.073220\n",
      "P8        -0.084215\n",
      "P13       -0.105085\n",
      "P29       -0.114846\n",
      "Name: revenue, dtype: float64 \n",
      "\n",
      "\n",
      "Negative Correlation:\n",
      "P34   -0.072343\n",
      "P10   -0.073220\n",
      "P8    -0.084215\n",
      "P13   -0.105085\n",
      "P29   -0.114846\n",
      "Name: revenue, dtype: float64\n"
     ]
    }
   ],
   "source": [
    "# used corr() to find the correlatiion between the revenue data and others\n",
    "numeric_features = train.select_dtypes(include=[np.number])\n",
    "corr = numeric_features.corr()\n",
    "print(\"Positive Correlation:\")\n",
    "print(corr['revenue'].sort_values(ascending=False)[:], '\\n')\n",
    "print(\"\\nNegative Correlation:\")\n",
    "print(corr['revenue'].sort_values(ascending=False)[-5:])"
   ]
  },
  {
   "cell_type": "code",
   "execution_count": 35,
   "id": "593cc3bf",
   "metadata": {},
   "outputs": [],
   "source": [
    "# selected only numbers columns\n",
    "data = train.select_dtypes(include=[np.number]).interpolate().dropna()"
   ]
  },
  {
   "cell_type": "code",
   "execution_count": 36,
   "id": "f4b35f0d",
   "metadata": {},
   "outputs": [],
   "source": [
    "y = np.log(train.revenue)\n",
    "X = data.drop(['revenue'], axis=1)"
   ]
  },
  {
   "cell_type": "code",
   "execution_count": 37,
   "id": "54517832",
   "metadata": {},
   "outputs": [],
   "source": [
    "# divited the input data into teset and train data\n",
    "from sklearn.model_selection import train_test_split\n",
    "X_train, X_test, y_train, y_test = train_test_split(X, y, random_state=42, test_size=.2)"
   ]
  },
  {
   "cell_type": "code",
   "execution_count": 38,
   "id": "f2419d4d",
   "metadata": {},
   "outputs": [],
   "source": [
    "\n",
    "from sklearn import linear_model\n",
    "lr = linear_model.LinearRegression()\n",
    "# created the model\n",
    "model = lr.fit(X_train, y_train)"
   ]
  },
  {
   "cell_type": "code",
   "execution_count": 39,
   "id": "cd8584d1",
   "metadata": {},
   "outputs": [],
   "source": [
    "# predicted using the created model\n",
    "y_pred = model.predict(X_test)"
   ]
  },
  {
   "cell_type": "code",
   "execution_count": 40,
   "id": "e501f7d8",
   "metadata": {},
   "outputs": [
    {
     "name": "stdout",
     "output_type": "stream",
     "text": [
      "Results of sklearn.metrics:\n",
      "MAE: 0.5714370715962254\n",
      "MSE: 0.6324720936705962\n",
      "RMSE: 0.7952811412768419\n",
      "R-Squared: -1.1214103684400016\n"
     ]
    }
   ],
   "source": [
    "# calulated the RMSE, others using sciket learn library\n",
    "import sklearn.metrics as metrics\n",
    "mae = metrics.mean_absolute_error(y_test, y_pred)\n",
    "mse = metrics.mean_squared_error(y_test, y_pred)\n",
    "rmse = np.sqrt(mse) # or mse**(0.5)  \n",
    "r2 = metrics.r2_score(y_test, y_pred)\n",
    "print(\"Results of sklearn.metrics:\")\n",
    "print(\"MAE:\",mae)\n",
    "print(\"MSE:\", mse)\n",
    "print(\"RMSE:\", rmse)\n",
    "print(\"R-Squared:\", r2)"
   ]
  },
  {
   "cell_type": "code",
   "execution_count": 45,
   "id": "61329020",
   "metadata": {},
   "outputs": [],
   "source": [
    "y1 = np.log(train.revenue)\n",
    "# picked the most correlated value and created the regression model\n",
    "X1 = data[['P2','P28','P6','P21','P11']]\n",
    "X1_train, X1_test, y1_train, y1_test = train_test_split(X1, y1, random_state=42, test_size=.2)\n",
    "lr1 = linear_model.LinearRegression()\n",
    "model1 = lr1.fit(X1_train, y1_train)\n",
    "# predicted the model\n",
    "y1_pred = model1.predict(X1_test)\n"
   ]
  },
  {
   "cell_type": "code",
   "execution_count": 46,
   "id": "247e4fba",
   "metadata": {},
   "outputs": [
    {
     "name": "stdout",
     "output_type": "stream",
     "text": [
      "Results of sklearn.metrics:\n",
      "MAE: 0.4194617239443305\n",
      "MSE: 0.29953211678232305\n",
      "RMSE: 0.5472952738534502\n",
      "R-Squared: -1.1214103684400016\n"
     ]
    }
   ],
   "source": [
    "# calulated the RMSE, others using sciket learn library\n",
    "import sklearn.metrics as metrics\n",
    "mae = metrics.mean_absolute_error(y1_test, y1_pred)\n",
    "mse = metrics.mean_squared_error(y1_test, y1_pred)\n",
    "rmse = np.sqrt(mse) # or mse**(0.5)  \n",
    "r2 = metrics.r2_score(y_test, y_pred)\n",
    "print(\"Results of sklearn.metrics:\")\n",
    "print(\"MAE:\",mae)\n",
    "print(\"MSE:\", mse)\n",
    "print(\"RMSE:\", rmse)\n",
    "print(\"R-Squared:\", r2)"
   ]
  }
 ],
 "metadata": {
  "kernelspec": {
   "display_name": "Python 3 (ipykernel)",
   "language": "python",
   "name": "python3"
  },
  "language_info": {
   "codemirror_mode": {
    "name": "ipython",
    "version": 3
   },
   "file_extension": ".py",
   "mimetype": "text/x-python",
   "name": "python",
   "nbconvert_exporter": "python",
   "pygments_lexer": "ipython3",
   "version": "3.9.7"
  }
 },
 "nbformat": 4,
 "nbformat_minor": 5
}
